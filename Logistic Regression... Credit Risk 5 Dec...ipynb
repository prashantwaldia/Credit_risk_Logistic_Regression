{
 "cells": [
  {
   "cell_type": "code",
   "execution_count": 40,
   "id": "aa89fb14",
   "metadata": {},
   "outputs": [],
   "source": [
    "import pandas as pd\n",
    "import numpy as np"
   ]
  },
  {
   "cell_type": "code",
   "execution_count": 95,
   "id": "c2146782",
   "metadata": {},
   "outputs": [],
   "source": [
    "cr = pd.read_csv(r'F:\\Imarticus\\pandas datasets\\CreditRisk.csv')"
   ]
  },
  {
   "cell_type": "code",
   "execution_count": 42,
   "id": "ff1bb261",
   "metadata": {},
   "outputs": [
    {
     "data": {
      "text/html": [
       "<div>\n",
       "<style scoped>\n",
       "    .dataframe tbody tr th:only-of-type {\n",
       "        vertical-align: middle;\n",
       "    }\n",
       "\n",
       "    .dataframe tbody tr th {\n",
       "        vertical-align: top;\n",
       "    }\n",
       "\n",
       "    .dataframe thead th {\n",
       "        text-align: right;\n",
       "    }\n",
       "</style>\n",
       "<table border=\"1\" class=\"dataframe\">\n",
       "  <thead>\n",
       "    <tr style=\"text-align: right;\">\n",
       "      <th></th>\n",
       "      <th>Loan_ID</th>\n",
       "      <th>Gender</th>\n",
       "      <th>Married</th>\n",
       "      <th>Dependents</th>\n",
       "      <th>Education</th>\n",
       "      <th>Self_Employed</th>\n",
       "      <th>ApplicantIncome</th>\n",
       "      <th>CoapplicantIncome</th>\n",
       "      <th>LoanAmount</th>\n",
       "      <th>Loan_Amount_Term</th>\n",
       "      <th>Credit_History</th>\n",
       "      <th>Property_Area</th>\n",
       "      <th>Loan_Status</th>\n",
       "    </tr>\n",
       "  </thead>\n",
       "  <tbody>\n",
       "    <tr>\n",
       "      <th>0</th>\n",
       "      <td>LP001002</td>\n",
       "      <td>Male</td>\n",
       "      <td>No</td>\n",
       "      <td>0.0</td>\n",
       "      <td>Graduate</td>\n",
       "      <td>No</td>\n",
       "      <td>5849</td>\n",
       "      <td>0.0</td>\n",
       "      <td>NaN</td>\n",
       "      <td>360.0</td>\n",
       "      <td>1.0</td>\n",
       "      <td>Urban</td>\n",
       "      <td>Y</td>\n",
       "    </tr>\n",
       "    <tr>\n",
       "      <th>1</th>\n",
       "      <td>LP001003</td>\n",
       "      <td>Male</td>\n",
       "      <td>Yes</td>\n",
       "      <td>1.0</td>\n",
       "      <td>Graduate</td>\n",
       "      <td>No</td>\n",
       "      <td>4583</td>\n",
       "      <td>1508.0</td>\n",
       "      <td>128.0</td>\n",
       "      <td>360.0</td>\n",
       "      <td>1.0</td>\n",
       "      <td>Rural</td>\n",
       "      <td>N</td>\n",
       "    </tr>\n",
       "    <tr>\n",
       "      <th>2</th>\n",
       "      <td>LP001005</td>\n",
       "      <td>Male</td>\n",
       "      <td>Yes</td>\n",
       "      <td>0.0</td>\n",
       "      <td>Graduate</td>\n",
       "      <td>Yes</td>\n",
       "      <td>3000</td>\n",
       "      <td>0.0</td>\n",
       "      <td>66.0</td>\n",
       "      <td>360.0</td>\n",
       "      <td>1.0</td>\n",
       "      <td>Urban</td>\n",
       "      <td>Y</td>\n",
       "    </tr>\n",
       "    <tr>\n",
       "      <th>3</th>\n",
       "      <td>LP001006</td>\n",
       "      <td>Male</td>\n",
       "      <td>Yes</td>\n",
       "      <td>0.0</td>\n",
       "      <td>Not Graduate</td>\n",
       "      <td>No</td>\n",
       "      <td>2583</td>\n",
       "      <td>2358.0</td>\n",
       "      <td>120.0</td>\n",
       "      <td>360.0</td>\n",
       "      <td>1.0</td>\n",
       "      <td>Urban</td>\n",
       "      <td>Y</td>\n",
       "    </tr>\n",
       "    <tr>\n",
       "      <th>4</th>\n",
       "      <td>LP001008</td>\n",
       "      <td>Male</td>\n",
       "      <td>No</td>\n",
       "      <td>0.0</td>\n",
       "      <td>Graduate</td>\n",
       "      <td>No</td>\n",
       "      <td>6000</td>\n",
       "      <td>0.0</td>\n",
       "      <td>141.0</td>\n",
       "      <td>360.0</td>\n",
       "      <td>1.0</td>\n",
       "      <td>Urban</td>\n",
       "      <td>Y</td>\n",
       "    </tr>\n",
       "  </tbody>\n",
       "</table>\n",
       "</div>"
      ],
      "text/plain": [
       "    Loan_ID Gender Married  Dependents     Education Self_Employed  \\\n",
       "0  LP001002   Male      No         0.0      Graduate            No   \n",
       "1  LP001003   Male     Yes         1.0      Graduate            No   \n",
       "2  LP001005   Male     Yes         0.0      Graduate           Yes   \n",
       "3  LP001006   Male     Yes         0.0  Not Graduate            No   \n",
       "4  LP001008   Male      No         0.0      Graduate            No   \n",
       "\n",
       "   ApplicantIncome  CoapplicantIncome  LoanAmount  Loan_Amount_Term  \\\n",
       "0             5849                0.0         NaN             360.0   \n",
       "1             4583             1508.0       128.0             360.0   \n",
       "2             3000                0.0        66.0             360.0   \n",
       "3             2583             2358.0       120.0             360.0   \n",
       "4             6000                0.0       141.0             360.0   \n",
       "\n",
       "   Credit_History Property_Area Loan_Status  \n",
       "0             1.0         Urban           Y  \n",
       "1             1.0         Rural           N  \n",
       "2             1.0         Urban           Y  \n",
       "3             1.0         Urban           Y  \n",
       "4             1.0         Urban           Y  "
      ]
     },
     "execution_count": 42,
     "metadata": {},
     "output_type": "execute_result"
    }
   ],
   "source": [
    "cr.head()"
   ]
  },
  {
   "cell_type": "code",
   "execution_count": 43,
   "id": "029a6333",
   "metadata": {},
   "outputs": [],
   "source": [
    "# PS 1 - build the predictive model which can be used by the bank to approve or reject the loan\n",
    "# PS 2 - use the model to run a campaign for targetting the good customers"
   ]
  },
  {
   "cell_type": "code",
   "execution_count": 44,
   "id": "b8eeff2a",
   "metadata": {},
   "outputs": [
    {
     "data": {
      "text/plain": [
       "Loan_ID               0\n",
       "Gender               24\n",
       "Married               3\n",
       "Dependents           25\n",
       "Education             0\n",
       "Self_Employed        55\n",
       "ApplicantIncome       0\n",
       "CoapplicantIncome     0\n",
       "LoanAmount           27\n",
       "Loan_Amount_Term     20\n",
       "Credit_History       79\n",
       "Property_Area         0\n",
       "Loan_Status           0\n",
       "dtype: int64"
      ]
     },
     "execution_count": 44,
     "metadata": {},
     "output_type": "execute_result"
    }
   ],
   "source": [
    "cr.isnull().sum()"
   ]
  },
  {
   "cell_type": "code",
   "execution_count": 45,
   "id": "0bb3a9e6",
   "metadata": {},
   "outputs": [],
   "source": [
    "cr.Gender = cr.Gender.fillna('Male')\n",
    "cr.Married = cr.Married.fillna('No')\n",
    "cr.Dependents = cr.Dependents.fillna(0)\n",
    "cr.Self_Employed = cr.Self_Employed.fillna('No')\n",
    "cr.LoanAmount = cr.LoanAmount.fillna(cr.LoanAmount.mean())\n",
    "cr.Loan_Amount_Term = cr.Loan_Amount_Term.fillna(cr.Loan_Amount_Term.mean())\n",
    "cr.Credit_History = cr.Credit_History.fillna(0)"
   ]
  },
  {
   "cell_type": "code",
   "execution_count": 46,
   "id": "e934520a",
   "metadata": {},
   "outputs": [],
   "source": [
    "cr = cr.drop(['Loan_ID'], axis = 1)"
   ]
  },
  {
   "cell_type": "code",
   "execution_count": 47,
   "id": "f3bcc51a",
   "metadata": {},
   "outputs": [],
   "source": [
    "cr.Gender = cr.Gender.replace({'Male': 1,'Female': 0})\n",
    "cr.Married = cr.Married.replace({'Yes':1, 'No':0 })\n",
    "cr.Education = cr.Education.replace({'Graduate':1, 'Not Graduate':0})\n",
    "cr.Self_Employed = cr.Self_Employed.replace({'Yes':1, 'No':0})\n",
    "cr.LoanAmount = cr.LoanAmount.replace()\n",
    "cr.Property_Area = cr.Loan_Amount_Term.replace({'Rural':0, 'Semiurban':1, 'Urban':2})\n",
    "cr.Loan_Status = cr.Loan_Status.replace({'Y':1, 'N':0})\n"
   ]
  },
  {
   "cell_type": "code",
   "execution_count": 48,
   "id": "3545408a",
   "metadata": {},
   "outputs": [],
   "source": [
    "from sklearn.model_selection  import train_test_split"
   ]
  },
  {
   "cell_type": "code",
   "execution_count": 49,
   "id": "0cccd19d",
   "metadata": {},
   "outputs": [],
   "source": [
    "cr_train , cr_test = train_test_split(cr , test_size= .2)"
   ]
  },
  {
   "cell_type": "code",
   "execution_count": 50,
   "id": "d79881a5",
   "metadata": {},
   "outputs": [],
   "source": [
    "cr_train_x  = cr_train.iloc[: , 0:-1]\n",
    "cr_train_y  = cr_train.iloc[: , -1]"
   ]
  },
  {
   "cell_type": "code",
   "execution_count": 51,
   "id": "d4db0f2e",
   "metadata": {},
   "outputs": [],
   "source": [
    "cr_test_x  = cr_test.iloc[: , 0:-1]\n",
    "cr_test_y  = cr_test.iloc[: , -1]"
   ]
  },
  {
   "cell_type": "markdown",
   "id": "01a6cd3a",
   "metadata": {},
   "source": [
    "# Model Building "
   ]
  },
  {
   "cell_type": "code",
   "execution_count": 53,
   "id": "906916e2",
   "metadata": {},
   "outputs": [],
   "source": [
    "from sklearn.linear_model import LogisticRegression\n",
    "glm = LogisticRegression()"
   ]
  },
  {
   "cell_type": "code",
   "execution_count": 54,
   "id": "fbfeaf4b",
   "metadata": {},
   "outputs": [
    {
     "data": {
      "text/plain": [
       "LogisticRegression()"
      ]
     },
     "execution_count": 54,
     "metadata": {},
     "output_type": "execute_result"
    }
   ],
   "source": [
    "glm.fit(cr_train_x, cr_train_y)"
   ]
  },
  {
   "cell_type": "code",
   "execution_count": 56,
   "id": "28796f0a",
   "metadata": {},
   "outputs": [
    {
     "data": {
      "text/plain": [
       "array([1, 1, 0, 1, 0, 0, 1, 1, 1, 1, 1, 1, 1, 1, 1, 1, 1, 1, 1, 0, 1, 1,\n",
       "       1, 1, 0, 1, 1, 1, 1, 1, 1, 1, 1, 1, 1, 1, 0, 1, 0, 1, 1, 1, 1, 1,\n",
       "       1, 0, 1, 1, 1, 1, 1, 0, 1, 1, 1, 1, 1, 1, 1, 1, 0, 1, 0, 1, 1, 1,\n",
       "       0, 1, 1, 1, 1, 1, 1, 1, 1, 1, 1, 0, 1, 1, 1, 1, 1, 0, 1, 1, 1, 0,\n",
       "       1, 1, 1, 1, 0, 1, 1, 0, 1, 1, 1, 1, 1, 1, 1, 1, 0, 0, 1, 1, 0, 0,\n",
       "       1, 1, 1, 1, 1, 1, 1, 1, 1, 1, 1, 1, 1, 1, 0, 0, 0, 1, 1, 1, 1, 1,\n",
       "       1, 1, 1, 1, 1, 1, 1, 1, 1, 1, 0, 1, 1, 0, 1, 1, 1, 1, 1, 1, 1, 1,\n",
       "       1, 1, 1, 1, 0, 1, 1, 1, 1, 1, 1, 1, 0, 0, 1, 1, 1, 1, 1, 1, 1, 1,\n",
       "       1, 1, 1, 1, 0, 1, 1, 1, 1, 1, 1, 1, 1, 1, 1, 1, 1, 1, 1, 1, 1],\n",
       "      dtype=int64)"
      ]
     },
     "execution_count": 56,
     "metadata": {},
     "output_type": "execute_result"
    }
   ],
   "source": [
    "pred_cr = glm.predict(cr_test_x)\n",
    "pred_cr"
   ]
  },
  {
   "cell_type": "code",
   "execution_count": 57,
   "id": "8a2e6066",
   "metadata": {},
   "outputs": [],
   "source": [
    "from sklearn.metrics import confusion_matrix"
   ]
  },
  {
   "cell_type": "code",
   "execution_count": 58,
   "id": "4a457904",
   "metadata": {},
   "outputs": [
    {
     "data": {
      "text/plain": [
       "array([[ 21,  27],\n",
       "       [  9, 140]], dtype=int64)"
      ]
     },
     "execution_count": 58,
     "metadata": {},
     "output_type": "execute_result"
    }
   ],
   "source": [
    "tab_cr = confusion_matrix(cr_test_y, pred_cr )\n",
    "tab_cr"
   ]
  },
  {
   "cell_type": "code",
   "execution_count": 61,
   "id": "8f316135",
   "metadata": {},
   "outputs": [
    {
     "data": {
      "text/plain": [
       "81.7258883248731"
      ]
     },
     "execution_count": 61,
     "metadata": {},
     "output_type": "execute_result"
    }
   ],
   "source": [
    "tab_cr.diagonal().sum() * 100/ tab_cr.sum()"
   ]
  },
  {
   "cell_type": "code",
   "execution_count": 62,
   "id": "a49c3437",
   "metadata": {},
   "outputs": [],
   "source": [
    "from sklearn.metrics import accuracy_score"
   ]
  },
  {
   "cell_type": "code",
   "execution_count": 63,
   "id": "6bc3a273",
   "metadata": {},
   "outputs": [
    {
     "data": {
      "text/plain": [
       "0.817258883248731"
      ]
     },
     "execution_count": 63,
     "metadata": {},
     "output_type": "execute_result"
    }
   ],
   "source": [
    "accuracy_score(cr_test_y, pred_cr)"
   ]
  },
  {
   "cell_type": "code",
   "execution_count": 64,
   "id": "59970362",
   "metadata": {},
   "outputs": [],
   "source": [
    "from sklearn.metrics import precision_score"
   ]
  },
  {
   "cell_type": "code",
   "execution_count": 65,
   "id": "90f23a34",
   "metadata": {},
   "outputs": [
    {
     "data": {
      "text/plain": [
       "0.8383233532934131"
      ]
     },
     "execution_count": 65,
     "metadata": {},
     "output_type": "execute_result"
    }
   ],
   "source": [
    "precision_score(cr_test_y, pred_cr)"
   ]
  },
  {
   "cell_type": "code",
   "execution_count": 66,
   "id": "9143b818",
   "metadata": {},
   "outputs": [],
   "source": [
    "from sklearn.metrics import recall_score"
   ]
  },
  {
   "cell_type": "code",
   "execution_count": 67,
   "id": "04d296a2",
   "metadata": {},
   "outputs": [],
   "source": [
    "recall_score = (cr_test_y, pred_cr)"
   ]
  },
  {
   "cell_type": "code",
   "execution_count": 68,
   "id": "43fd22dd",
   "metadata": {},
   "outputs": [],
   "source": [
    "from sklearn.metrics import f1_score"
   ]
  },
  {
   "cell_type": "code",
   "execution_count": 69,
   "id": "aa15e63c",
   "metadata": {},
   "outputs": [
    {
     "data": {
      "text/plain": [
       "0.8860759493670886"
      ]
     },
     "execution_count": 69,
     "metadata": {},
     "output_type": "execute_result"
    }
   ],
   "source": [
    "f1_score(cr_test_y, pred_cr)"
   ]
  },
  {
   "cell_type": "code",
   "execution_count": 71,
   "id": "6ca68a9c",
   "metadata": {},
   "outputs": [
    {
     "data": {
      "text/plain": [
       "array([[0.1237982 , 0.8762018 ],\n",
       "       [0.18191463, 0.81808537],\n",
       "       [0.64401156, 0.35598844],\n",
       "       [0.1255656 , 0.8744344 ],\n",
       "       [0.57630286, 0.42369714],\n",
       "       [0.55713227, 0.44286773],\n",
       "       [0.10344233, 0.89655767],\n",
       "       [0.11856715, 0.88143285],\n",
       "       [0.12792965, 0.87207035],\n",
       "       [0.12406523, 0.87593477],\n",
       "       [0.18588319, 0.81411681],\n",
       "       [0.45284511, 0.54715489],\n",
       "       [0.11709535, 0.88290465],\n",
       "       [0.12240048, 0.87759952],\n",
       "       [0.09977446, 0.90022554],\n",
       "       [0.24209702, 0.75790298],\n",
       "       [0.0928808 , 0.9071192 ],\n",
       "       [0.17107941, 0.82892059],\n",
       "       [0.15798356, 0.84201644],\n",
       "       [0.6419324 , 0.3580676 ],\n",
       "       [0.17374647, 0.82625353],\n",
       "       [0.18846096, 0.81153904],\n",
       "       [0.21152497, 0.78847503],\n",
       "       [0.12772415, 0.87227585],\n",
       "       [0.67364194, 0.32635806],\n",
       "       [0.22855796, 0.77144204],\n",
       "       [0.12441474, 0.87558526],\n",
       "       [0.18504703, 0.81495297],\n",
       "       [0.12225936, 0.87774064],\n",
       "       [0.49031945, 0.50968055],\n",
       "       [0.12009095, 0.87990905],\n",
       "       [0.18595074, 0.81404926],\n",
       "       [0.19139544, 0.80860456],\n",
       "       [0.14753998, 0.85246002],\n",
       "       [0.11630347, 0.88369653],\n",
       "       [0.13491938, 0.86508062],\n",
       "       [0.5521934 , 0.4478066 ],\n",
       "       [0.11927303, 0.88072697],\n",
       "       [0.66697351, 0.33302649],\n",
       "       [0.19237166, 0.80762834],\n",
       "       [0.07776996, 0.92223004],\n",
       "       [0.05577241, 0.94422759],\n",
       "       [0.15727544, 0.84272456],\n",
       "       [0.14671992, 0.85328008],\n",
       "       [0.11298467, 0.88701533],\n",
       "       [0.58922857, 0.41077143],\n",
       "       [0.17867899, 0.82132101],\n",
       "       [0.21662461, 0.78337539],\n",
       "       [0.12718288, 0.87281712],\n",
       "       [0.17798137, 0.82201863],\n",
       "       [0.13394166, 0.86605834],\n",
       "       [0.70773609, 0.29226391],\n",
       "       [0.26355652, 0.73644348],\n",
       "       [0.07406833, 0.92593167],\n",
       "       [0.11164821, 0.88835179],\n",
       "       [0.24647831, 0.75352169],\n",
       "       [0.2238777 , 0.7761223 ],\n",
       "       [0.11674864, 0.88325136],\n",
       "       [0.10572112, 0.89427888],\n",
       "       [0.05789197, 0.94210803],\n",
       "       [0.73059894, 0.26940106],\n",
       "       [0.10204687, 0.89795313],\n",
       "       [0.66191451, 0.33808549],\n",
       "       [0.12235929, 0.87764071],\n",
       "       [0.11604874, 0.88395126],\n",
       "       [0.16905272, 0.83094728],\n",
       "       [0.73932617, 0.26067383],\n",
       "       [0.10268882, 0.89731118],\n",
       "       [0.19461317, 0.80538683],\n",
       "       [0.3459917 , 0.6540083 ],\n",
       "       [0.10955195, 0.89044805],\n",
       "       [0.14643229, 0.85356771],\n",
       "       [0.11804718, 0.88195282],\n",
       "       [0.0647005 , 0.9352995 ],\n",
       "       [0.16728914, 0.83271086],\n",
       "       [0.12573154, 0.87426846],\n",
       "       [0.17290909, 0.82709091],\n",
       "       [0.72945809, 0.27054191],\n",
       "       [0.12018651, 0.87981349],\n",
       "       [0.09875676, 0.90124324],\n",
       "       [0.13592647, 0.86407353],\n",
       "       [0.16831802, 0.83168198],\n",
       "       [0.17426747, 0.82573253],\n",
       "       [0.83067551, 0.16932449],\n",
       "       [0.13260699, 0.86739301],\n",
       "       [0.15127888, 0.84872112],\n",
       "       [0.239897  , 0.760103  ],\n",
       "       [0.53206814, 0.46793186],\n",
       "       [0.12140148, 0.87859852],\n",
       "       [0.1367714 , 0.8632286 ],\n",
       "       [0.20926554, 0.79073446],\n",
       "       [0.13879859, 0.86120141],\n",
       "       [0.75631484, 0.24368516],\n",
       "       [0.0695022 , 0.9304978 ],\n",
       "       [0.21664302, 0.78335698],\n",
       "       [0.62944183, 0.37055817],\n",
       "       [0.13265102, 0.86734898],\n",
       "       [0.18198255, 0.81801745],\n",
       "       [0.03716061, 0.96283939],\n",
       "       [0.09924384, 0.90075616],\n",
       "       [0.12840115, 0.87159885],\n",
       "       [0.06622218, 0.93377782],\n",
       "       [0.18015753, 0.81984247],\n",
       "       [0.09748191, 0.90251809],\n",
       "       [0.74741448, 0.25258552],\n",
       "       [0.66989638, 0.33010362],\n",
       "       [0.16198573, 0.83801427],\n",
       "       [0.13918245, 0.86081755],\n",
       "       [0.53631768, 0.46368232],\n",
       "       [0.54442604, 0.45557396],\n",
       "       [0.16028386, 0.83971614],\n",
       "       [0.17853981, 0.82146019],\n",
       "       [0.13900044, 0.86099956],\n",
       "       [0.14935621, 0.85064379],\n",
       "       [0.16062094, 0.83937906],\n",
       "       [0.2268077 , 0.7731923 ],\n",
       "       [0.12766612, 0.87233388],\n",
       "       [0.20492411, 0.79507589],\n",
       "       [0.21722581, 0.78277419],\n",
       "       [0.19293901, 0.80706099],\n",
       "       [0.17375218, 0.82624782],\n",
       "       [0.1202957 , 0.8797043 ],\n",
       "       [0.16401521, 0.83598479],\n",
       "       [0.11659053, 0.88340947],\n",
       "       [0.55921739, 0.44078261],\n",
       "       [0.53391796, 0.46608204],\n",
       "       [0.57857746, 0.42142254],\n",
       "       [0.12646553, 0.87353447],\n",
       "       [0.13500328, 0.86499672],\n",
       "       [0.13383593, 0.86616407],\n",
       "       [0.13074883, 0.86925117],\n",
       "       [0.24104095, 0.75895905],\n",
       "       [0.21596648, 0.78403352],\n",
       "       [0.13306334, 0.86693666],\n",
       "       [0.18499647, 0.81500353],\n",
       "       [0.20217896, 0.79782104],\n",
       "       [0.24683289, 0.75316711],\n",
       "       [0.1527254 , 0.8472746 ],\n",
       "       [0.12017201, 0.87982799],\n",
       "       [0.10280419, 0.89719581],\n",
       "       [0.20645133, 0.79354867],\n",
       "       [0.09300966, 0.90699034],\n",
       "       [0.5266881 , 0.4733119 ],\n",
       "       [0.29493328, 0.70506672],\n",
       "       [0.1669853 , 0.8330147 ],\n",
       "       [0.53094002, 0.46905998],\n",
       "       [0.12702833, 0.87297167],\n",
       "       [0.22500143, 0.77499857],\n",
       "       [0.22881084, 0.77118916],\n",
       "       [0.1209773 , 0.8790227 ],\n",
       "       [0.1410813 , 0.8589187 ],\n",
       "       [0.17662819, 0.82337181],\n",
       "       [0.1639827 , 0.8360173 ],\n",
       "       [0.10008048, 0.89991952],\n",
       "       [0.18968203, 0.81031797],\n",
       "       [0.17442603, 0.82557397],\n",
       "       [0.18293895, 0.81706105],\n",
       "       [0.12772692, 0.87227308],\n",
       "       [0.69927977, 0.30072023],\n",
       "       [0.13335217, 0.86664783],\n",
       "       [0.16606786, 0.83393214],\n",
       "       [0.36124821, 0.63875179],\n",
       "       [0.13029129, 0.86970871],\n",
       "       [0.12573107, 0.87426893],\n",
       "       [0.17296362, 0.82703638],\n",
       "       [0.20624832, 0.79375168],\n",
       "       [0.72741114, 0.27258886],\n",
       "       [0.70509977, 0.29490023],\n",
       "       [0.21576631, 0.78423369],\n",
       "       [0.06073188, 0.93926812],\n",
       "       [0.16415699, 0.83584301],\n",
       "       [0.1270598 , 0.8729402 ],\n",
       "       [0.06194521, 0.93805479],\n",
       "       [0.25460326, 0.74539674],\n",
       "       [0.15434621, 0.84565379],\n",
       "       [0.12826914, 0.87173086],\n",
       "       [0.17999356, 0.82000644],\n",
       "       [0.11927245, 0.88072755],\n",
       "       [0.15875422, 0.84124578],\n",
       "       [0.13837128, 0.86162872],\n",
       "       [0.7058845 , 0.2941155 ],\n",
       "       [0.11845773, 0.88154227],\n",
       "       [0.20212178, 0.79787822],\n",
       "       [0.15096827, 0.84903173],\n",
       "       [0.15947276, 0.84052724],\n",
       "       [0.05430327, 0.94569673],\n",
       "       [0.15940994, 0.84059006],\n",
       "       [0.11842168, 0.88157832],\n",
       "       [0.21240615, 0.78759385],\n",
       "       [0.12994056, 0.87005944],\n",
       "       [0.13412427, 0.86587573],\n",
       "       [0.18037958, 0.81962042],\n",
       "       [0.31593766, 0.68406234],\n",
       "       [0.20642251, 0.79357749],\n",
       "       [0.15299991, 0.84700009],\n",
       "       [0.2025632 , 0.7974368 ],\n",
       "       [0.22571423, 0.77428577]])"
      ]
     },
     "execution_count": 71,
     "metadata": {},
     "output_type": "execute_result"
    }
   ],
   "source": [
    "glm.predict_proba(cr_test_x)"
   ]
  },
  {
   "cell_type": "code",
   "execution_count": 73,
   "id": "47656e0b",
   "metadata": {},
   "outputs": [
    {
     "data": {
      "text/plain": [
       "array([[0.1237982 , 0.8762018 ],\n",
       "       [0.18191463, 0.81808537],\n",
       "       [0.64401156, 0.35598844],\n",
       "       [0.1255656 , 0.8744344 ],\n",
       "       [0.57630286, 0.42369714],\n",
       "       [0.55713227, 0.44286773],\n",
       "       [0.10344233, 0.89655767],\n",
       "       [0.11856715, 0.88143285],\n",
       "       [0.12792965, 0.87207035],\n",
       "       [0.12406523, 0.87593477],\n",
       "       [0.18588319, 0.81411681],\n",
       "       [0.45284511, 0.54715489],\n",
       "       [0.11709535, 0.88290465],\n",
       "       [0.12240048, 0.87759952],\n",
       "       [0.09977446, 0.90022554],\n",
       "       [0.24209702, 0.75790298],\n",
       "       [0.0928808 , 0.9071192 ],\n",
       "       [0.17107941, 0.82892059],\n",
       "       [0.15798356, 0.84201644],\n",
       "       [0.6419324 , 0.3580676 ],\n",
       "       [0.17374647, 0.82625353],\n",
       "       [0.18846096, 0.81153904],\n",
       "       [0.21152497, 0.78847503],\n",
       "       [0.12772415, 0.87227585],\n",
       "       [0.67364194, 0.32635806],\n",
       "       [0.22855796, 0.77144204],\n",
       "       [0.12441474, 0.87558526],\n",
       "       [0.18504703, 0.81495297],\n",
       "       [0.12225936, 0.87774064],\n",
       "       [0.49031945, 0.50968055],\n",
       "       [0.12009095, 0.87990905],\n",
       "       [0.18595074, 0.81404926],\n",
       "       [0.19139544, 0.80860456],\n",
       "       [0.14753998, 0.85246002],\n",
       "       [0.11630347, 0.88369653],\n",
       "       [0.13491938, 0.86508062],\n",
       "       [0.5521934 , 0.4478066 ],\n",
       "       [0.11927303, 0.88072697],\n",
       "       [0.66697351, 0.33302649],\n",
       "       [0.19237166, 0.80762834],\n",
       "       [0.07776996, 0.92223004],\n",
       "       [0.05577241, 0.94422759],\n",
       "       [0.15727544, 0.84272456],\n",
       "       [0.14671992, 0.85328008],\n",
       "       [0.11298467, 0.88701533],\n",
       "       [0.58922857, 0.41077143],\n",
       "       [0.17867899, 0.82132101],\n",
       "       [0.21662461, 0.78337539],\n",
       "       [0.12718288, 0.87281712],\n",
       "       [0.17798137, 0.82201863],\n",
       "       [0.13394166, 0.86605834],\n",
       "       [0.70773609, 0.29226391],\n",
       "       [0.26355652, 0.73644348],\n",
       "       [0.07406833, 0.92593167],\n",
       "       [0.11164821, 0.88835179],\n",
       "       [0.24647831, 0.75352169],\n",
       "       [0.2238777 , 0.7761223 ],\n",
       "       [0.11674864, 0.88325136],\n",
       "       [0.10572112, 0.89427888],\n",
       "       [0.05789197, 0.94210803],\n",
       "       [0.73059894, 0.26940106],\n",
       "       [0.10204687, 0.89795313],\n",
       "       [0.66191451, 0.33808549],\n",
       "       [0.12235929, 0.87764071],\n",
       "       [0.11604874, 0.88395126],\n",
       "       [0.16905272, 0.83094728],\n",
       "       [0.73932617, 0.26067383],\n",
       "       [0.10268882, 0.89731118],\n",
       "       [0.19461317, 0.80538683],\n",
       "       [0.3459917 , 0.6540083 ],\n",
       "       [0.10955195, 0.89044805],\n",
       "       [0.14643229, 0.85356771],\n",
       "       [0.11804718, 0.88195282],\n",
       "       [0.0647005 , 0.9352995 ],\n",
       "       [0.16728914, 0.83271086],\n",
       "       [0.12573154, 0.87426846],\n",
       "       [0.17290909, 0.82709091],\n",
       "       [0.72945809, 0.27054191],\n",
       "       [0.12018651, 0.87981349],\n",
       "       [0.09875676, 0.90124324],\n",
       "       [0.13592647, 0.86407353],\n",
       "       [0.16831802, 0.83168198],\n",
       "       [0.17426747, 0.82573253],\n",
       "       [0.83067551, 0.16932449],\n",
       "       [0.13260699, 0.86739301],\n",
       "       [0.15127888, 0.84872112],\n",
       "       [0.239897  , 0.760103  ],\n",
       "       [0.53206814, 0.46793186],\n",
       "       [0.12140148, 0.87859852],\n",
       "       [0.1367714 , 0.8632286 ],\n",
       "       [0.20926554, 0.79073446],\n",
       "       [0.13879859, 0.86120141],\n",
       "       [0.75631484, 0.24368516],\n",
       "       [0.0695022 , 0.9304978 ],\n",
       "       [0.21664302, 0.78335698],\n",
       "       [0.62944183, 0.37055817],\n",
       "       [0.13265102, 0.86734898],\n",
       "       [0.18198255, 0.81801745],\n",
       "       [0.03716061, 0.96283939],\n",
       "       [0.09924384, 0.90075616],\n",
       "       [0.12840115, 0.87159885],\n",
       "       [0.06622218, 0.93377782],\n",
       "       [0.18015753, 0.81984247],\n",
       "       [0.09748191, 0.90251809],\n",
       "       [0.74741448, 0.25258552],\n",
       "       [0.66989638, 0.33010362],\n",
       "       [0.16198573, 0.83801427],\n",
       "       [0.13918245, 0.86081755],\n",
       "       [0.53631768, 0.46368232],\n",
       "       [0.54442604, 0.45557396],\n",
       "       [0.16028386, 0.83971614],\n",
       "       [0.17853981, 0.82146019],\n",
       "       [0.13900044, 0.86099956],\n",
       "       [0.14935621, 0.85064379],\n",
       "       [0.16062094, 0.83937906],\n",
       "       [0.2268077 , 0.7731923 ],\n",
       "       [0.12766612, 0.87233388],\n",
       "       [0.20492411, 0.79507589],\n",
       "       [0.21722581, 0.78277419],\n",
       "       [0.19293901, 0.80706099],\n",
       "       [0.17375218, 0.82624782],\n",
       "       [0.1202957 , 0.8797043 ],\n",
       "       [0.16401521, 0.83598479],\n",
       "       [0.11659053, 0.88340947],\n",
       "       [0.55921739, 0.44078261],\n",
       "       [0.53391796, 0.46608204],\n",
       "       [0.57857746, 0.42142254],\n",
       "       [0.12646553, 0.87353447],\n",
       "       [0.13500328, 0.86499672],\n",
       "       [0.13383593, 0.86616407],\n",
       "       [0.13074883, 0.86925117],\n",
       "       [0.24104095, 0.75895905],\n",
       "       [0.21596648, 0.78403352],\n",
       "       [0.13306334, 0.86693666],\n",
       "       [0.18499647, 0.81500353],\n",
       "       [0.20217896, 0.79782104],\n",
       "       [0.24683289, 0.75316711],\n",
       "       [0.1527254 , 0.8472746 ],\n",
       "       [0.12017201, 0.87982799],\n",
       "       [0.10280419, 0.89719581],\n",
       "       [0.20645133, 0.79354867],\n",
       "       [0.09300966, 0.90699034],\n",
       "       [0.5266881 , 0.4733119 ],\n",
       "       [0.29493328, 0.70506672],\n",
       "       [0.1669853 , 0.8330147 ],\n",
       "       [0.53094002, 0.46905998],\n",
       "       [0.12702833, 0.87297167],\n",
       "       [0.22500143, 0.77499857],\n",
       "       [0.22881084, 0.77118916],\n",
       "       [0.1209773 , 0.8790227 ],\n",
       "       [0.1410813 , 0.8589187 ],\n",
       "       [0.17662819, 0.82337181],\n",
       "       [0.1639827 , 0.8360173 ],\n",
       "       [0.10008048, 0.89991952],\n",
       "       [0.18968203, 0.81031797],\n",
       "       [0.17442603, 0.82557397],\n",
       "       [0.18293895, 0.81706105],\n",
       "       [0.12772692, 0.87227308],\n",
       "       [0.69927977, 0.30072023],\n",
       "       [0.13335217, 0.86664783],\n",
       "       [0.16606786, 0.83393214],\n",
       "       [0.36124821, 0.63875179],\n",
       "       [0.13029129, 0.86970871],\n",
       "       [0.12573107, 0.87426893],\n",
       "       [0.17296362, 0.82703638],\n",
       "       [0.20624832, 0.79375168],\n",
       "       [0.72741114, 0.27258886],\n",
       "       [0.70509977, 0.29490023],\n",
       "       [0.21576631, 0.78423369],\n",
       "       [0.06073188, 0.93926812],\n",
       "       [0.16415699, 0.83584301],\n",
       "       [0.1270598 , 0.8729402 ],\n",
       "       [0.06194521, 0.93805479],\n",
       "       [0.25460326, 0.74539674],\n",
       "       [0.15434621, 0.84565379],\n",
       "       [0.12826914, 0.87173086],\n",
       "       [0.17999356, 0.82000644],\n",
       "       [0.11927245, 0.88072755],\n",
       "       [0.15875422, 0.84124578],\n",
       "       [0.13837128, 0.86162872],\n",
       "       [0.7058845 , 0.2941155 ],\n",
       "       [0.11845773, 0.88154227],\n",
       "       [0.20212178, 0.79787822],\n",
       "       [0.15096827, 0.84903173],\n",
       "       [0.15947276, 0.84052724],\n",
       "       [0.05430327, 0.94569673],\n",
       "       [0.15940994, 0.84059006],\n",
       "       [0.11842168, 0.88157832],\n",
       "       [0.21240615, 0.78759385],\n",
       "       [0.12994056, 0.87005944],\n",
       "       [0.13412427, 0.86587573],\n",
       "       [0.18037958, 0.81962042],\n",
       "       [0.31593766, 0.68406234],\n",
       "       [0.20642251, 0.79357749],\n",
       "       [0.15299991, 0.84700009],\n",
       "       [0.2025632 , 0.7974368 ],\n",
       "       [0.22571423, 0.77428577]])"
      ]
     },
     "execution_count": 73,
     "metadata": {},
     "output_type": "execute_result"
    }
   ],
   "source": [
    "pred_prob = glm.predict_proba(cr_test_x)\n",
    "pred_prob"
   ]
  },
  {
   "cell_type": "code",
   "execution_count": 72,
   "id": "46f23fd4",
   "metadata": {},
   "outputs": [],
   "source": [
    "from sklearn.metrics import roc_auc_score\n",
    "from sklearn.metrics import roc_curve"
   ]
  },
  {
   "cell_type": "code",
   "execution_count": 74,
   "id": "f49e0936",
   "metadata": {},
   "outputs": [
    {
     "data": {
      "text/plain": [
       "0.6885486577181208"
      ]
     },
     "execution_count": 74,
     "metadata": {},
     "output_type": "execute_result"
    }
   ],
   "source": [
    "roc_auc_score(cr_test_y, pred_cr)   ## area under the curve"
   ]
  },
  {
   "cell_type": "code",
   "execution_count": null,
   "id": "272b2552",
   "metadata": {},
   "outputs": [],
   "source": [
    "roc_curve(cr_test_y, pred_prob[:, 1])"
   ]
  },
  {
   "cell_type": "code",
   "execution_count": 75,
   "id": "c25f30cd",
   "metadata": {},
   "outputs": [],
   "source": [
    "fpr, tpr, threshold = roc_curve(cr_test_y, pred_prob[:, 1])"
   ]
  },
  {
   "cell_type": "code",
   "execution_count": 77,
   "id": "7b917133",
   "metadata": {},
   "outputs": [],
   "source": [
    "import matplotlib.pyplot as plt"
   ]
  },
  {
   "cell_type": "code",
   "execution_count": 81,
   "id": "ce1f220f",
   "metadata": {},
   "outputs": [
    {
     "data": {
      "text/plain": [
       "0.6885486577181208"
      ]
     },
     "execution_count": 81,
     "metadata": {},
     "output_type": "execute_result"
    }
   ],
   "source": [
    "Area = roc_auc_score(cr_test_y, pred_cr)\n",
    "Area"
   ]
  },
  {
   "cell_type": "code",
   "execution_count": 82,
   "id": "56672caa",
   "metadata": {},
   "outputs": [],
   "source": [
    "import numpy as np\n",
    "Area = np.round(Area,3)"
   ]
  },
  {
   "cell_type": "code",
   "execution_count": 85,
   "id": "f2d1d726",
   "metadata": {},
   "outputs": [
    {
     "data": {
      "text/plain": [
       "Text(0.5, 0.4, '0.689')"
      ]
     },
     "execution_count": 85,
     "metadata": {},
     "output_type": "execute_result"
    },
    {
     "data": {
      "image/png": "[encoded data removed]",
      "text/plain": [
       "<Figure size 432x288 with 1 Axes>"
      ]
     },
     "metadata": {
      "needs_background": "light"
     },
     "output_type": "display_data"
    }
   ],
   "source": [
    "plt.plot(fpr, tpr)\n",
    "plt.xlabel('False Positive Values')\n",
    "plt.ylabel('True Negative Values')\n",
    "plt.title('AUROC curve on Credit Risk Data')\n",
    "plt.grid()\n",
    "plt.text(x = .5, y = .5, s = 'AUROC is')\n",
    "plt.text(x = .5, y = .4, s = Area)"
   ]
  },
  {
   "cell_type": "code",
   "execution_count": null,
   "id": "e2a0881c",
   "metadata": {},
   "outputs": [],
   "source": [
    "## probelm statement 2"
   ]
  },
  {
   "cell_type": "code",
   "execution_count": 86,
   "id": "b916b705",
   "metadata": {},
   "outputs": [],
   "source": [
    "pred_prob_full = glm.predict_proba(cr.iloc[:, 0: -1])"
   ]
  },
  {
   "cell_type": "code",
   "execution_count": 88,
   "id": "0f5f1c1d",
   "metadata": {},
   "outputs": [],
   "source": [
    "pred_prob_full = pd.DataFrame(pred_prob_full)"
   ]
  },
  {
   "cell_type": "code",
   "execution_count": 99,
   "id": "461faebd",
   "metadata": {},
   "outputs": [],
   "source": [
    "pred_prob_full = pred_prob_full.rename(columns = {pred_prob_full.columns[0]: 'Probe0', pred_prob_full.columns[1]: 'Prob1'})"
   ]
  },
  {
   "cell_type": "code",
   "execution_count": 100,
   "id": "ef514fbd",
   "metadata": {},
   "outputs": [],
   "source": [
    "pred_prob_full['LoanIDcustomer'] = cr.Loan_ID"
   ]
  },
  {
   "cell_type": "code",
   "execution_count": 101,
   "id": "e353aaad",
   "metadata": {},
   "outputs": [
    {
     "data": {
      "text/html": [
       "<div>\n",
       "<style scoped>\n",
       "    .dataframe tbody tr th:only-of-type {\n",
       "        vertical-align: middle;\n",
       "    }\n",
       "\n",
       "    .dataframe tbody tr th {\n",
       "        vertical-align: top;\n",
       "    }\n",
       "\n",
       "    .dataframe thead th {\n",
       "        text-align: right;\n",
       "    }\n",
       "</style>\n",
       "<table border=\"1\" class=\"dataframe\">\n",
       "  <thead>\n",
       "    <tr style=\"text-align: right;\">\n",
       "      <th></th>\n",
       "      <th>Probe0</th>\n",
       "      <th>Prob1</th>\n",
       "      <th>LoanIDcustomer</th>\n",
       "    </tr>\n",
       "  </thead>\n",
       "  <tbody>\n",
       "    <tr>\n",
       "      <th>133</th>\n",
       "      <td>0.037161</td>\n",
       "      <td>0.962839</td>\n",
       "      <td>LP001482</td>\n",
       "    </tr>\n",
       "    <tr>\n",
       "      <th>14</th>\n",
       "      <td>0.045531</td>\n",
       "      <td>0.954469</td>\n",
       "      <td>LP001030</td>\n",
       "    </tr>\n",
       "    <tr>\n",
       "      <th>758</th>\n",
       "      <td>0.045947</td>\n",
       "      <td>0.954053</td>\n",
       "      <td>LP001794</td>\n",
       "    </tr>\n",
       "    <tr>\n",
       "      <th>686</th>\n",
       "      <td>0.047880</td>\n",
       "      <td>0.952120</td>\n",
       "      <td>LP001375</td>\n",
       "    </tr>\n",
       "    <tr>\n",
       "      <th>575</th>\n",
       "      <td>0.050428</td>\n",
       "      <td>0.949572</td>\n",
       "      <td>LP002868</td>\n",
       "    </tr>\n",
       "    <tr>\n",
       "      <th>...</th>\n",
       "      <td>...</td>\n",
       "      <td>...</td>\n",
       "      <td>...</td>\n",
       "    </tr>\n",
       "    <tr>\n",
       "      <th>950</th>\n",
       "      <td>0.809422</td>\n",
       "      <td>0.190578</td>\n",
       "      <td>LP002853</td>\n",
       "    </tr>\n",
       "    <tr>\n",
       "      <th>179</th>\n",
       "      <td>0.810125</td>\n",
       "      <td>0.189875</td>\n",
       "      <td>LP001630</td>\n",
       "    </tr>\n",
       "    <tr>\n",
       "      <th>293</th>\n",
       "      <td>0.816695</td>\n",
       "      <td>0.183305</td>\n",
       "      <td>LP001945</td>\n",
       "    </tr>\n",
       "    <tr>\n",
       "      <th>338</th>\n",
       "      <td>0.830676</td>\n",
       "      <td>0.169324</td>\n",
       "      <td>LP002113</td>\n",
       "    </tr>\n",
       "    <tr>\n",
       "      <th>130</th>\n",
       "      <td>0.902414</td>\n",
       "      <td>0.097586</td>\n",
       "      <td>LP001469</td>\n",
       "    </tr>\n",
       "  </tbody>\n",
       "</table>\n",
       "<p>981 rows × 3 columns</p>\n",
       "</div>"
      ],
      "text/plain": [
       "       Probe0     Prob1 LoanIDcustomer\n",
       "133  0.037161  0.962839       LP001482\n",
       "14   0.045531  0.954469       LP001030\n",
       "758  0.045947  0.954053       LP001794\n",
       "686  0.047880  0.952120       LP001375\n",
       "575  0.050428  0.949572       LP002868\n",
       "..        ...       ...            ...\n",
       "950  0.809422  0.190578       LP002853\n",
       "179  0.810125  0.189875       LP001630\n",
       "293  0.816695  0.183305       LP001945\n",
       "338  0.830676  0.169324       LP002113\n",
       "130  0.902414  0.097586       LP001469\n",
       "\n",
       "[981 rows x 3 columns]"
      ]
     },
     "execution_count": 101,
     "metadata": {},
     "output_type": "execute_result"
    }
   ],
   "source": [
    "pred_prob_full = pred_prob_full.sort_values('Prob1', ascending = False)\n",
    "pred_prob_full"
   ]
  },
  {
   "cell_type": "code",
   "execution_count": null,
   "id": "cabfa512",
   "metadata": {},
   "outputs": [],
   "source": []
  }
 ],
 "metadata": {
  "kernelspec": {
   "display_name": "Python 3",
   "language": "python",
   "name": "python3"
  },
  "language_info": {
   "codemirror_mode": {
    "name": "ipython",
    "version": 3
   },
   "file_extension": ".py",
   "mimetype": "text/x-python",
   "name": "python",
   "nbconvert_exporter": "python",
   "pygments_lexer": "ipython3",
   "version": "3.8.8"
  }
 },
 "nbformat": 4,
 "nbformat_minor": 5
}
